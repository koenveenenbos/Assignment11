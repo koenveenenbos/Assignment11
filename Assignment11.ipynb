{
 "metadata": {
  "name": "",
  "signature": "sha256:8ffaf03ee5381f405ead048ad419107b7dea48191d698ff4c17eb3db95d21899"
 },
 "nbformat": 3,
 "nbformat_minor": 0,
 "worksheets": [
  {
   "cells": [
    {
     "cell_type": "code",
     "collapsed": false,
     "input": [
      "# -*- coding: utf-8 -*-\n",
      "\"\"\"\n",
      "Spyder Editor\n",
      "\n",
      "Author: Koen Veenenbos & Tim Jak\n",
      "Team: JakVeenenbos\n",
      "\n",
      "\"\"\"\n",
      "\n",
      "# Importing modules\n",
      "from osgeo import gdal\n",
      "from osgeo.gdalconst import GA_ReadOnly, GDT_Float32\n",
      "import numpy as np\n",
      "import os, subprocess\n",
      "\n",
      "# Set working directory\n",
      "os.chdir('/home/ubuntu/userdata/Assignments11/')\n",
      "\n",
      "# Define bands\n",
      "band4 = './data/LC81980242014260LGN00_sr_band4.tif'\n",
      "band5 = './data/LC81980242014260LGN00_sr_band5.tif'\n",
      "\n",
      "# Open bands\n",
      "dsband4 = gdal.Open(band4, GA_ReadOnly)\n",
      "dsband5 = gdal.Open(band5, GA_ReadOnly)\n",
      "\n",
      "# Read data from the bands into an array\n",
      "band4_Arr = dsband4.GetRasterBand(1).ReadAsArray(0,0,dsband4.RasterXSize, dsband4.RasterYSize)\n",
      "band5_Arr = dsband5.GetRasterBand(1).ReadAsArray(0,0,dsband5.RasterXSize, dsband5.RasterYSize)\n",
      "\n",
      "# Set data type \n",
      "band4_Arr=band4_Arr.astype(np.float32)\n",
      "band5_Arr=band5_Arr.astype(np.float32)\n",
      "\n",
      "# Create a mask\n",
      "mask = np.greater(band5_Arr + band4_Arr,0)\n",
      "\n",
      "# Set an ignore value and create ndwi\n",
      "with np.errstate(invalid='ignore'):\n",
      "        ndwi = np.choose(mask,(-99,(band4_Arr - band5_Arr) / (band4_Arr + band5_Arr)))\n",
      "\n",
      "# Check data\n",
      "print 'NDVI min and max values', ndwi.min(), ndwi.max()\n",
      "\n",
      "# Check the real minimum value\n",
      "print ndwi[ndwi>-99].min()\n",
      "\n",
      "# Write the result to disk\n",
      "driver = gdal.GetDriverByName('GTiff')\n",
      "outDataSet = driver.Create('./data/ndwi.tif', dsband4.RasterXSize, dsband4.RasterYSize, 1, GDT_Float32)\n",
      "outBand = outDataSet.GetRasterBand(1)\n",
      "outBand.WriteArray(ndwi,0,0)\n",
      "outBand.SetNoDataValue(-99)\n",
      "\n",
      "# Set the projection and extent information of the dataset\n",
      "outDataSet.SetProjection(dsband4.GetProjection())\n",
      "outDataSet.SetGeoTransform(dsband4.GetGeoTransform())\n",
      "\n",
      "# Save or Flush the data\n",
      "outBand.FlushCache()\n",
      "outDataSet.FlushCache()\n",
      "\n",
      "# Reproject the file\n",
      "bash = \"gdalwarp -t_srs EPSG:4326 ./data/ndwi.tif ./data/ndwi_latlon.tif\"\n",
      "ndwi_latlon = subprocess.Popen(bash, shell = True)\n",
      "\n"
     ],
     "language": "python",
     "metadata": {},
     "outputs": [
      {
       "output_type": "stream",
       "stream": "stdout",
       "text": [
        "NDVI min and max values "
       ]
      },
      {
       "output_type": "stream",
       "stream": "stdout",
       "text": [
        "-99.0 "
       ]
      },
      {
       "output_type": "stream",
       "stream": "stdout",
       "text": [
        "21.3333\n",
        "-2.36481"
       ]
      },
      {
       "output_type": "stream",
       "stream": "stdout",
       "text": [
        "\n"
       ]
      },
      {
       "output_type": "stream",
       "stream": "stderr",
       "text": [
        "-c:40: RuntimeWarning: divide by zero encountered in divide\n"
       ]
      }
     ],
     "prompt_number": 1
    },
    {
     "cell_type": "code",
     "collapsed": false,
     "input": [],
     "language": "python",
     "metadata": {},
     "outputs": []
    }
   ],
   "metadata": {}
  }
 ]
}